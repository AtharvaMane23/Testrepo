{
 "cells": [
  {
   "cell_type": "markdown",
   "id": "05725e1a",
   "metadata": {},
   "source": [
    "My Title"
   ]
  },
  {
   "cell_type": "code",
   "execution_count": null,
   "id": "d51e89a1",
   "metadata": {},
   "outputs": [],
   "source": [
    "#Embed a link in mark down using the following code\n",
    " \"<a href=\"https://dataplatform.cloud.ibm.com/gallery\">IBM Cloud Gallery</a>\""
   ]
  },
  {
   "cell_type": "markdown",
   "id": "957d9eff",
   "metadata": {},
   "source": [
    "<a href=\"https://dataplatform.cloud.ibm.com/gallery\">IBM Cloud Gallery</a> "
   ]
  },
  {
   "cell_type": "markdown",
   "id": "534dd3c1",
   "metadata": {},
   "source": [
    "Example\n"
   ]
  },
  {
   "cell_type": "markdown",
   "id": "a429a4ad",
   "metadata": {},
   "source": [
    "<a href=\"https://youtube.com/\">Youtube Website</a>"
   ]
  },
  {
   "cell_type": "markdown",
   "id": "e0347e5a",
   "metadata": {},
   "source": [
    "<a href=\"https://github.com/adam-p/markdown-here/wiki/Markdown-Cheatsheet\">Markdown Cheatsheet (Different Formulas)</a>"
   ]
  },
  {
   "cell_type": "markdown",
   "id": "70aac92d",
   "metadata": {},
   "source": [
    "|Name|Roll no.|Result|\n",
    "|-----|-----|-----|\n",
    "|Cladio|3|Pass|\n",
    "|Clout|1|Fail|\n",
    "|Ender|8|Pass|\n",
    "|PD|7|Fail|"
   ]
  },
  {
   "cell_type": "code",
   "execution_count": null,
   "id": "ab63b709",
   "metadata": {},
   "outputs": [],
   "source": []
  }
 ],
 "metadata": {
  "kernelspec": {
   "display_name": "Python 3",
   "language": "python",
   "name": "python3"
  },
  "language_info": {
   "codemirror_mode": {
    "name": "ipython",
    "version": 3
   },
   "file_extension": ".py",
   "mimetype": "text/x-python",
   "name": "python",
   "nbconvert_exporter": "python",
   "pygments_lexer": "ipython3",
   "version": "3.8.8"
  }
 },
 "nbformat": 4,
 "nbformat_minor": 5
}
